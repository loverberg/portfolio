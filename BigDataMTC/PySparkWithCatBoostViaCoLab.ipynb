{
 "cells": [
  {
   "cell_type": "markdown",
   "metadata": {
    "id": "5EVXgzsb7Jq8"
   },
   "source": [
    "### Environment config for CoLab"
   ]
  },
  {
   "cell_type": "code",
   "execution_count": 82,
   "metadata": {
    "id": "ltj4TU2N4D6S"
   },
   "outputs": [],
   "source": [
    "!apt-get install openjdk-8-jdk-headless -qq > /dev/null\n",
    "!wget -q https://downloads.apache.org/spark/spark-3.0.3/spark-3.0.3-bin-hadoop2.7.tgz\n",
    "!tar xf spark-3.0.3-bin-hadoop2.7.tgz\n",
    "!pip install -q findspark==1.4.2 catboost==1.0.3"
   ]
  },
  {
   "cell_type": "code",
   "execution_count": 83,
   "metadata": {
    "id": "hJxUJQz04wEN"
   },
   "outputs": [],
   "source": [
    "import os\n",
    "os.environ[\"JAVA_HOME\"] = \"/usr/lib/jvm/java-8-openjdk-amd64\"\n",
    "os.environ[\"SPARK_HOME\"] = \"/content/spark-3.0.3-bin-hadoop2.7\"\n",
    "import findspark\n",
    "findspark.init()"
   ]
  },
  {
   "cell_type": "code",
   "execution_count": 84,
   "metadata": {
    "id": "ANe3zQOXsHeg"
   },
   "outputs": [],
   "source": [
    "from pyspark.ml import Pipeline\n",
    "from pyspark.ml.feature import VectorAssembler, StringIndexer\n",
    "from pyspark.ml.evaluation import MulticlassClassificationEvaluator\n",
    "from pyspark.sql import SparkSession\n",
    "from pyspark.sql import DataFrame\n",
    "from pyspark.sql.functions import col\n",
    "from pyspark.sql.types import StructField, StructType\n",
    "from pyspark.ml import Transformer"
   ]
  },
  {
   "cell_type": "code",
   "execution_count": 85,
   "metadata": {
    "id": "UeEsUHZH41_m"
   },
   "outputs": [],
   "source": [
    "import pandas as pd\n",
    "df = pd.read_csv(\"https://github.com/loverberg/portfolio/raw/main/Big_Data_MTC/telco-customer-churn.csv\")\n",
    "df = df.drop(['year', 'month', 'noadditionallines'], axis=1)"
   ]
  },
  {
   "cell_type": "markdown",
   "metadata": {
    "id": "SvQeWku6HTbJ"
   },
   "source": [
    "<a href='https://catboost.ai/en/docs/concepts/spark-cluster-configuration'>Catboost Spark Cluster config</a>"
   ]
  },
  {
   "cell_type": "code",
   "execution_count": 89,
   "metadata": {
    "id": "XwLemIk13_Lj"
   },
   "outputs": [],
   "source": [
    "spark = SparkSession.builder\\\n",
    "    .master('local[*]')\\\n",
    "    .appName('CatBoostWithSpark')\\\n",
    "    .config(\"spark.jars.packages\", \"ai.catboost:catboost-spark_3.0_2.12:1.0.3\")\\\n",
    "    .config(\"spark.executor.cores\", \"4\")\\\n",
    "    .config(\"spark.task.cpus\", \"4\")\\\n",
    "    .config(\"spark.driver.memory\", \"2g\")\\\n",
    "    .config(\"spark.driver.memoryOverhead\", \"2g\")\\\n",
    "    .config(\"spark.executor.memory\", \"2g\")\\\n",
    "    .config(\"spark.executor.memoryOverhead\", \"2g\")\\\n",
    "    .getOrCreate()"
   ]
  },
  {
   "cell_type": "code",
   "execution_count": 90,
   "metadata": {
    "colab": {
     "base_uri": "https://localhost:8080/",
     "height": 223
    },
    "id": "qDSHTzrn4m6e",
    "outputId": "101acd0a-175c-4780-946b-d357b0feb658"
   },
   "outputs": [
    {
     "data": {
      "text/html": [
       "\n",
       "            <div>\n",
       "                <p><b>SparkSession - in-memory</b></p>\n",
       "                \n",
       "        <div>\n",
       "            <p><b>SparkContext</b></p>\n",
       "\n",
       "            <p><a href=\"http://78facbe8d212:4040\">Spark UI</a></p>\n",
       "\n",
       "            <dl>\n",
       "              <dt>Version</dt>\n",
       "                <dd><code>v3.0.3</code></dd>\n",
       "              <dt>Master</dt>\n",
       "                <dd><code>local[*]</code></dd>\n",
       "              <dt>AppName</dt>\n",
       "                <dd><code>CatBoostWithSpark</code></dd>\n",
       "            </dl>\n",
       "        </div>\n",
       "        \n",
       "            </div>\n",
       "        "
      ],
      "text/plain": [
       "<pyspark.sql.session.SparkSession at 0x7feeaf58eb10>"
      ]
     },
     "execution_count": 90,
     "metadata": {},
     "output_type": "execute_result"
    }
   ],
   "source": [
    "spark"
   ]
  },
  {
   "cell_type": "markdown",
   "metadata": {
    "id": "04K22P97A3I-"
   },
   "source": [
    "Docs <a href='https://catboost.ai/docs/catboost-spark/3.0_2.12/latest/api/python/'>catboost-spark</a>"
   ]
  },
  {
   "cell_type": "code",
   "execution_count": 91,
   "metadata": {
    "id": "ZOIdAn0unfTg"
   },
   "outputs": [],
   "source": [
    "import catboost_spark"
   ]
  },
  {
   "cell_type": "markdown",
   "metadata": {
    "id": "HV7Tbw_57yHl"
   },
   "source": [
    "### Prepare DataSet"
   ]
  },
  {
   "cell_type": "code",
   "execution_count": 92,
   "metadata": {
    "id": "5w2lww3q3uZs"
   },
   "outputs": [],
   "source": [
    "sparkDF = spark.createDataFrame(df)"
   ]
  },
  {
   "cell_type": "code",
   "execution_count": 93,
   "metadata": {
    "id": "clV5OmAs0gas"
   },
   "outputs": [],
   "source": [
    "TARGET_LABEL = 'churn'"
   ]
  },
  {
   "cell_type": "code",
   "execution_count": 94,
   "metadata": {
    "id": "kW55WZAyByiu"
   },
   "outputs": [],
   "source": [
    "evaluator = MulticlassClassificationEvaluator(\n",
    "    labelCol=TARGET_LABEL, \n",
    "    predictionCol=\"prediction\", \n",
    "    metricName='f1')"
   ]
  },
  {
   "cell_type": "code",
   "execution_count": 95,
   "metadata": {
    "id": "QENxHiQLytDq"
   },
   "outputs": [],
   "source": [
    "trainDF, testDF = sparkDF.randomSplit([0.85, 0.15])"
   ]
  },
  {
   "cell_type": "markdown",
   "metadata": {
    "id": "mFYPn1ZUCXhN"
   },
   "source": [
    "### Pipeline model with CatBoost\n",
    "<a href='https://catboost.ai/docs/catboost-spark/3.0_2.12/latest/api/python/api/catboost_spark.CatBoostClassifier.html?highlight=catboostclassifier#catboostclassifier'>CatBoostClassifier</a>"
   ]
  },
  {
   "cell_type": "code",
   "execution_count": 96,
   "metadata": {
    "id": "DZuTO43tgPGQ"
   },
   "outputs": [],
   "source": [
    "def create_metadata(features, categ_nums):\n",
    "      numericAttrs = []\n",
    "      nominalAttrs = []\n",
    "      for i, feature_name in enumerate(features):\n",
    "        if feature_name in categ_nums:\n",
    "            nominalAttrs.append({\"num_vals\": categ_nums[feature_name], \"idx\": i, \"name\": feature_name})\n",
    "        else:\n",
    "            numericAttrs.append({\"idx\": i, \"name\": feature_name})\n",
    "\n",
    "      attrs = {}\n",
    "      if numericAttrs:\n",
    "          attrs[\"numeric\"] = numericAttrs\n",
    "      if nominalAttrs:\n",
    "          attrs[\"nominal\"] = nominalAttrs\n",
    "\n",
    "      return {\"ml_attr\": {\"attrs\": attrs, \"num_attrs\": len(features)}}"
   ]
  },
  {
   "cell_type": "code",
   "execution_count": 97,
   "metadata": {
    "id": "hj1i9kjpgWL6"
   },
   "outputs": [],
   "source": [
    "customersuspended_indexer = StringIndexer(inputCol='customersuspended', \n",
    "                                          outputCol=\"customersuspended_index\")\n",
    "education_indexer = StringIndexer(inputCol='education',\n",
    "                                  outputCol=\"education_index\")\n",
    "gender_indexer = StringIndexer(inputCol='gender',\n",
    "                                  outputCol=\"gender_index\")\n",
    "homeowner_indexer = StringIndexer(inputCol='homeowner',\n",
    "                                  outputCol=\"homeowner_index\")\n",
    "maritalstatus_indexer = StringIndexer(inputCol='maritalstatus',\n",
    "                                  outputCol=\"maritalstatus_index\")\n",
    "occupation_indexer = StringIndexer(inputCol='occupation',\n",
    "                                  outputCol=\"occupation_index\")\n",
    "state_indexer = StringIndexer(inputCol='state',\n",
    "                                  outputCol=\"state_index\")\n",
    "usesinternetservice_indexer = StringIndexer(inputCol='usesinternetservice',\n",
    "                                  outputCol=\"usesinternetservice_index\")\n",
    "usesvoiceservice_indexer = StringIndexer(inputCol='usesvoiceservice',\n",
    "                                  outputCol=\"usesvoiceservice_index\")\n",
    "\n",
    "features = ['age', 'annualincome', 'calldroprate', 'callfailurerate', 'callingnum',\n",
    "       'customerid', 'customersuspended_index', 'education_index', 'gender_index', \n",
    "       'homeowner_index', 'maritalstatus_index', 'monthlybilledamount', 'numberofcomplaints',\n",
    "       'numberofmonthunpaid', 'numdayscontractequipmentplanexpiring',\n",
    "       'occupation_index', 'penaltytoswitch', 'state_index', 'totalminsusedinlastmonth',\n",
    "       'unpaidbalance', 'usesinternetservice_index', 'usesvoiceservice_index',\n",
    "       'percentagecalloutsidenetwork', 'totalcallduration', 'avgcallduration']\n",
    "       \n",
    "assembler = VectorAssembler(inputCols=features, outputCol='features')"
   ]
  },
  {
   "cell_type": "code",
   "execution_count": 98,
   "metadata": {
    "id": "qR8W-yV3bnbo"
   },
   "outputs": [],
   "source": [
    "feature_metadata = create_metadata(features, {'customersuspended_index': 2,\\\n",
    "                                              'education_index': 2,\\\n",
    "                                              'gender_index': 2,\\\n",
    "                                              'homeowner_index': 2,\\\n",
    "                                              'maritalstatus_index': 2,\\\n",
    "                                              'occupation_index': 3,\\\n",
    "                                              'state_index': 50,\\\n",
    "                                              'usesinternetservice_index': 2,\\\n",
    "                                              'usesvoiceservice_index': 2,\\\n",
    "                                              })"
   ]
  },
  {
   "cell_type": "code",
   "execution_count": 102,
   "metadata": {
    "colab": {
     "base_uri": "https://localhost:8080/"
    },
    "id": "ygQghq_uDQkz",
    "outputId": "82e409e5-62c5-491e-f648-8098898e2ef3"
   },
   "outputs": [
    {
     "data": {
      "text/plain": [
       "CatBoostClassifier_69a1b1bcf505"
      ]
     },
     "execution_count": 102,
     "metadata": {},
     "output_type": "execute_result"
    }
   ],
   "source": [
    "classifier = catboost_spark.CatBoostClassifier(featuresCol='features', labelCol=TARGET_LABEL)\n",
    "classifier.setLossFunction('Logloss')\n",
    "classifier.useBestModel=True\n",
    "classifier.odType='Iter'\n",
    "classifier.odWait=20\n",
    "classifier.setScalePosWeight=9.99\n",
    "classifier.LearningRate=0.029\n",
    "classifier.earlyStoppingRounds=100\n",
    "classifier.setIterations(2000)\n",
    "classifier.setDepth(10)"
   ]
  },
  {
   "cell_type": "code",
   "execution_count": 103,
   "metadata": {
    "id": "XUesls23DSE9"
   },
   "outputs": [],
   "source": [
    "pipeline = Pipeline(stages=[customersuspended_indexer,\\\n",
    "                            education_indexer,\\\n",
    "                            gender_indexer,\\\n",
    "                            homeowner_indexer,\\\n",
    "                            maritalstatus_indexer,\\\n",
    "                            occupation_indexer,\\\n",
    "                            state_indexer,\\\n",
    "                            usesinternetservice_indexer,\\\n",
    "                            usesvoiceservice_indexer,\\\n",
    "                            assembler,\\\n",
    "                            classifier])"
   ]
  },
  {
   "cell_type": "code",
   "execution_count": 104,
   "metadata": {
    "id": "5oVuVwHrsjSH"
   },
   "outputs": [],
   "source": [
    "p_model = pipeline.fit(trainDF)"
   ]
  },
  {
   "cell_type": "code",
   "execution_count": 105,
   "metadata": {
    "id": "as0OCoEL1xXY"
   },
   "outputs": [],
   "source": [
    "predictions = p_model.transform(testDF)"
   ]
  },
  {
   "cell_type": "code",
   "execution_count": 106,
   "metadata": {
    "colab": {
     "base_uri": "https://localhost:8080/"
    },
    "id": "ZDxzkO70skME",
    "outputId": "885d6aa1-d035-474f-e98b-1285f55cb08d"
   },
   "outputs": [
    {
     "name": "stdout",
     "output_type": "stream",
     "text": [
      "Model F1 = 0.9770565389650627\n"
     ]
    }
   ],
   "source": [
    "print(f'Model F1 = {evaluator.evaluate(predictions)}')"
   ]
  },
  {
   "cell_type": "code",
   "execution_count": 107,
   "metadata": {
    "colab": {
     "base_uri": "https://localhost:8080/"
    },
    "id": "RYs-ODnbB029",
    "outputId": "ebf37a3a-b692-4713-f723-43fb5cc5b8e0"
   },
   "outputs": [
    {
     "data": {
      "text/plain": [
       "pyspark.ml.pipeline.PipelineModel"
      ]
     },
     "execution_count": 107,
     "metadata": {},
     "output_type": "execute_result"
    }
   ],
   "source": [
    "type(p_model)"
   ]
  },
  {
   "cell_type": "code",
   "execution_count": 108,
   "metadata": {
    "id": "pujGTHutpyL9"
   },
   "outputs": [],
   "source": [
    "p_model.write().overwrite().save('catboost_pipeline')"
   ]
  },
  {
   "cell_type": "markdown",
   "metadata": {
    "id": "Wj_erzuQni-z"
   },
   "source": [
    "### Catboost limitations\n",
    "<a href='https://catboost.ai/en/docs/concepts/spark-known-limitations'>List of limitations</a>"
   ]
  },
  {
   "cell_type": "code",
   "execution_count": null,
   "metadata": {
    "id": "V3jasYBlhHcI"
   },
   "outputs": [],
   "source": []
  }
 ],
 "metadata": {
  "colab": {
   "collapsed_sections": [],
   "name": "PySparkWithCatBoostViaCoLab.ipynb",
   "provenance": []
  },
  "kernelspec": {
   "display_name": "Python 3 (ipykernel)",
   "language": "python",
   "name": "python3"
  },
  "language_info": {
   "codemirror_mode": {
    "name": "ipython",
    "version": 3
   },
   "file_extension": ".py",
   "mimetype": "text/x-python",
   "name": "python",
   "nbconvert_exporter": "python",
   "pygments_lexer": "ipython3",
   "version": "3.7.4"
  }
 },
 "nbformat": 4,
 "nbformat_minor": 1
}
