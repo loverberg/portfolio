{
  "nbformat": 4,
  "nbformat_minor": 0,
  "metadata": {
    "colab": {
      "name": "PySparkWithCatBoostViaCoLab.ipynb",
      "provenance": [],
      "collapsed_sections": []
    },
    "kernelspec": {
      "name": "python3",
      "display_name": "Python 3"
    }
  },
  "cells": [
    {
      "cell_type": "markdown",
      "metadata": {
        "id": "5EVXgzsb7Jq8"
      },
      "source": [
        "### Environment config for CoLab"
      ]
    },
    {
      "cell_type": "code",
      "metadata": {
        "id": "ltj4TU2N4D6S",
        "colab": {
          "base_uri": "https://localhost:8080/"
        },
        "outputId": "d23ee9ba-9e08-43d2-ce6f-30e726a68477"
      },
      "source": [
        "!apt-get install openjdk-8-jdk-headless -qq > /dev/null\n",
        "!wget -q https://downloads.apache.org/spark/spark-3.0.3/spark-3.0.3-bin-hadoop2.7.tgz\n",
        "!tar xf spark-3.0.3-bin-hadoop2.7.tgz\n",
        "!pip install -q findspark==1.4.2 catboost==1.0.3"
      ],
      "execution_count": 1,
      "outputs": [
        {
          "output_type": "stream",
          "name": "stdout",
          "text": [
            "\u001b[K     |████████████████████████████████| 76.3 MB 1.3 MB/s \n",
            "\u001b[?25h"
          ]
        }
      ]
    },
    {
      "cell_type": "code",
      "metadata": {
        "id": "hJxUJQz04wEN"
      },
      "source": [
        "import os\n",
        "os.environ[\"JAVA_HOME\"] = \"/usr/lib/jvm/java-8-openjdk-amd64\"\n",
        "os.environ[\"SPARK_HOME\"] = \"/content/spark-3.0.3-bin-hadoop2.7\"\n",
        "import findspark\n",
        "findspark.init()"
      ],
      "execution_count": 2,
      "outputs": []
    },
    {
      "cell_type": "code",
      "metadata": {
        "id": "ANe3zQOXsHeg"
      },
      "source": [
        "from pyspark.ml import Pipeline\n",
        "from pyspark.ml.feature import VectorAssembler, StringIndexer\n",
        "from pyspark.ml.evaluation import MulticlassClassificationEvaluator\n",
        "from pyspark.sql import SparkSession\n",
        "from pyspark.sql import DataFrame\n",
        "from pyspark.sql.functions import col\n",
        "from pyspark.sql.types import StructField, StructType"
      ],
      "execution_count": 3,
      "outputs": []
    },
    {
      "cell_type": "code",
      "source": [
        "import pandas as pd\n",
        "df = pd.read_csv(\"https://github.com/loverberg/portfolio/raw/main/Big_Data_MTC/telco-customer-churn.csv\")\n",
        "df = df.drop(['year', 'month', 'noadditionallines'], axis=1)"
      ],
      "metadata": {
        "id": "UeEsUHZH41_m"
      },
      "execution_count": 21,
      "outputs": []
    },
    {
      "cell_type": "markdown",
      "metadata": {
        "id": "SvQeWku6HTbJ"
      },
      "source": [
        "<a href='https://catboost.ai/en/docs/concepts/spark-cluster-configuration'>Catboost Spark Cluster config</a>"
      ]
    },
    {
      "cell_type": "code",
      "metadata": {
        "id": "XwLemIk13_Lj"
      },
      "source": [
        "spark = SparkSession.builder\\\n",
        "    .master('local[*]')\\\n",
        "    .appName('CatBoostWithSpark')\\\n",
        "    .config(\"spark.jars.packages\", \"ai.catboost:catboost-spark_3.0_2.12:1.0.3\")\\\n",
        "    .config(\"spark.executor.cores\", \"2\")\\\n",
        "    .config(\"spark.task.cpus\", \"2\")\\\n",
        "    .config(\"spark.driver.memory\", \"2g\")\\\n",
        "    .config(\"spark.driver.memoryOverhead\", \"2g\")\\\n",
        "    .config(\"spark.executor.memory\", \"2g\")\\\n",
        "    .config(\"spark.executor.memoryOverhead\", \"2g\")\\\n",
        "    .getOrCreate()"
      ],
      "execution_count": 4,
      "outputs": []
    },
    {
      "cell_type": "code",
      "metadata": {
        "id": "qDSHTzrn4m6e",
        "colab": {
          "base_uri": "https://localhost:8080/",
          "height": 223
        },
        "outputId": "ac2fdf2a-a9c2-440a-b3e2-17107ab899f3"
      },
      "source": [
        "spark"
      ],
      "execution_count": 5,
      "outputs": [
        {
          "output_type": "execute_result",
          "data": {
            "text/html": [
              "\n",
              "            <div>\n",
              "                <p><b>SparkSession - in-memory</b></p>\n",
              "                \n",
              "        <div>\n",
              "            <p><b>SparkContext</b></p>\n",
              "\n",
              "            <p><a href=\"http://0a67b7f18038:4040\">Spark UI</a></p>\n",
              "\n",
              "            <dl>\n",
              "              <dt>Version</dt>\n",
              "                <dd><code>v3.0.3</code></dd>\n",
              "              <dt>Master</dt>\n",
              "                <dd><code>local[*]</code></dd>\n",
              "              <dt>AppName</dt>\n",
              "                <dd><code>CatBoostWithSpark</code></dd>\n",
              "            </dl>\n",
              "        </div>\n",
              "        \n",
              "            </div>\n",
              "        "
            ],
            "text/plain": [
              "<pyspark.sql.session.SparkSession at 0x7f7910229610>"
            ]
          },
          "metadata": {},
          "execution_count": 5
        }
      ]
    },
    {
      "cell_type": "markdown",
      "metadata": {
        "id": "04K22P97A3I-"
      },
      "source": [
        "Docs <a href='https://catboost.ai/docs/catboost-spark/3.0_2.12/latest/api/python/'>catboost-spark</a>"
      ]
    },
    {
      "cell_type": "code",
      "metadata": {
        "id": "ZOIdAn0unfTg"
      },
      "source": [
        "import catboost_spark"
      ],
      "execution_count": 6,
      "outputs": []
    },
    {
      "cell_type": "markdown",
      "metadata": {
        "id": "HV7Tbw_57yHl"
      },
      "source": [
        "### Prepare DataSet"
      ]
    },
    {
      "cell_type": "code",
      "source": [
        "sparkDF = spark.createDataFrame(df)"
      ],
      "metadata": {
        "id": "5w2lww3q3uZs"
      },
      "execution_count": 22,
      "outputs": []
    },
    {
      "cell_type": "code",
      "metadata": {
        "id": "clV5OmAs0gas"
      },
      "source": [
        "TARGET_LABEL = 'churn'"
      ],
      "execution_count": 16,
      "outputs": []
    },
    {
      "cell_type": "code",
      "metadata": {
        "id": "kW55WZAyByiu"
      },
      "source": [
        "evaluator = MulticlassClassificationEvaluator(\n",
        "    labelCol=TARGET_LABEL, \n",
        "    predictionCol=\"prediction\", \n",
        "    metricName='f1')"
      ],
      "execution_count": 50,
      "outputs": []
    },
    {
      "cell_type": "code",
      "metadata": {
        "id": "QENxHiQLytDq"
      },
      "source": [
        "trainDF, testDF = sparkDF.randomSplit([0.85, 0.15])"
      ],
      "execution_count": 51,
      "outputs": []
    },
    {
      "cell_type": "markdown",
      "metadata": {
        "id": "mFYPn1ZUCXhN"
      },
      "source": [
        "### Pipeline model with CatBoost\n",
        "<a href='https://catboost.ai/docs/catboost-spark/3.0_2.12/latest/api/python/api/catboost_spark.CatBoostClassifier.html?highlight=catboostclassifier#catboostclassifier'>CatBoostClassifier</a>"
      ]
    },
    {
      "cell_type": "code",
      "source": [
        "feature_metadata = create_metadata(features, {'customersuspended_index': 2,\\\n",
        "                                              'education_index': 2,\\\n",
        "                                              'gender_index': 2,\\\n",
        "                                              'homeowner_index': 2,\\\n",
        "                                              'maritalstatus_index': 2,\\\n",
        "                                              'occupation_index': 3,\\\n",
        "                                              'state_index': 50,\\\n",
        "                                              'usesinternetservice_index': 2,\\\n",
        "                                              'usesvoiceservice_index': 2,\\\n",
        "                                              })"
      ],
      "metadata": {
        "id": "qR8W-yV3bnbo"
      },
      "execution_count": 105,
      "outputs": []
    },
    {
      "cell_type": "code",
      "metadata": {
        "id": "YBjOYynf0CJu"
      },
      "source": [
        "customersuspended_indexer = StringIndexer(inputCol='customersuspended', \n",
        "                                          outputCol=\"customersuspended_index\")\n",
        "education_indexer = StringIndexer(inputCol='education',\n",
        "                                  outputCol=\"education_index\")\n",
        "gender_indexer = StringIndexer(inputCol='gender',\n",
        "                                  outputCol=\"gender_index\")\n",
        "homeowner_indexer = StringIndexer(inputCol='homeowner',\n",
        "                                  outputCol=\"homeowner_index\")\n",
        "maritalstatus_indexer = StringIndexer(inputCol='maritalstatus',\n",
        "                                  outputCol=\"maritalstatus_index\")\n",
        "occupation_indexer = StringIndexer(inputCol='occupation',\n",
        "                                  outputCol=\"occupation_index\")\n",
        "state_indexer = StringIndexer(inputCol='state',\n",
        "                                  outputCol=\"state_index\")\n",
        "usesinternetservice_indexer = StringIndexer(inputCol='usesinternetservice',\n",
        "                                  outputCol=\"usesinternetservice_index\")\n",
        "usesvoiceservice_indexer = StringIndexer(inputCol='usesvoiceservice',\n",
        "                                  outputCol=\"usesvoiceservice_index\")\n",
        "\n",
        "features = ['age', 'annualincome', 'calldroprate', 'callfailurerate', 'callingnum',\n",
        "       'customerid', 'customersuspended_index', 'education_index', 'gender_index', \n",
        "       'homeowner_index', 'maritalstatus_index', 'monthlybilledamount', 'numberofcomplaints',\n",
        "       'numberofmonthunpaid', 'numdayscontractequipmentplanexpiring',\n",
        "       'occupation_index', 'penaltytoswitch', 'state_index', 'totalminsusedinlastmonth',\n",
        "       'unpaidbalance', 'usesinternetservice_index', 'usesvoiceservice_index',\n",
        "       'percentagecalloutsidenetwork', 'totalcallduration', 'avgcallduration']\n",
        "       \n",
        "assembler = VectorAssembler(inputCols=features, outputCol='features')"
      ],
      "execution_count": 106,
      "outputs": []
    },
    {
      "cell_type": "code",
      "source": [
        "withColumn(\"features_with_meta\", col(\"features\").alias(\"\", metadata=feature_metadata))"
      ],
      "metadata": {
        "colab": {
          "base_uri": "https://localhost:8080/",
          "height": 174
        },
        "id": "dQIPlrGFW5QS",
        "outputId": "f96cc1e8-e473-424c-caec-8b004d06ad56"
      },
      "execution_count": 95,
      "outputs": [
        {
          "output_type": "error",
          "ename": "NameError",
          "evalue": "ignored",
          "traceback": [
            "\u001b[0;31m---------------------------------------------------------------------------\u001b[0m",
            "\u001b[0;31mNameError\u001b[0m                                 Traceback (most recent call last)",
            "\u001b[0;32m<ipython-input-95-9079719c532c>\u001b[0m in \u001b[0;36m<module>\u001b[0;34m()\u001b[0m\n\u001b[0;32m----> 1\u001b[0;31m \u001b[0mwithColumn\u001b[0m\u001b[0;34m(\u001b[0m\u001b[0;34m\"features_with_meta\"\u001b[0m\u001b[0;34m,\u001b[0m \u001b[0mcol\u001b[0m\u001b[0;34m(\u001b[0m\u001b[0;34m\"features\"\u001b[0m\u001b[0;34m)\u001b[0m\u001b[0;34m.\u001b[0m\u001b[0malias\u001b[0m\u001b[0;34m(\u001b[0m\u001b[0;34m\"\"\u001b[0m\u001b[0;34m,\u001b[0m \u001b[0mmetadata\u001b[0m\u001b[0;34m=\u001b[0m\u001b[0mfeature_metadata\u001b[0m\u001b[0;34m)\u001b[0m\u001b[0;34m)\u001b[0m\u001b[0;34m\u001b[0m\u001b[0;34m\u001b[0m\u001b[0m\n\u001b[0m",
            "\u001b[0;31mNameError\u001b[0m: name 'withColumn' is not defined"
          ]
        }
      ]
    },
    {
      "cell_type": "code",
      "metadata": {
        "id": "ygQghq_uDQkz",
        "colab": {
          "base_uri": "https://localhost:8080/"
        },
        "outputId": "7ec2c45b-e109-486e-ee7e-fb15ff29b006"
      },
      "source": [
        "classifier = catboost_spark.CatBoostClassifier(featuresCol='features', labelCol=TARGET_LABEL)\n",
        "classifier.setIterations(200)\n",
        "classifier.setDepth(10)"
      ],
      "execution_count": 107,
      "outputs": [
        {
          "output_type": "execute_result",
          "data": {
            "text/plain": [
              "CatBoostClassifier_508e83c45785"
            ]
          },
          "metadata": {},
          "execution_count": 107
        }
      ]
    },
    {
      "cell_type": "code",
      "metadata": {
        "id": "XUesls23DSE9"
      },
      "source": [
        "pipeline = Pipeline(stages=[customersuspended_indexer,\\\n",
        "                            education_indexer,\\\n",
        "                            gender_indexer,\\\n",
        "                            homeowner_indexer,\\\n",
        "                            maritalstatus_indexer,\\\n",
        "                            occupation_indexer,\\\n",
        "                            state_indexer,\\\n",
        "                            usesinternetservice_indexer,\\\n",
        "                            usesvoiceservice_indexer,\\\n",
        "                            assembler,\\\n",
        "                            classifier])"
      ],
      "execution_count": 108,
      "outputs": []
    },
    {
      "cell_type": "code",
      "metadata": {
        "id": "5oVuVwHrsjSH"
      },
      "source": [
        "p_model = pipeline.fit(trainDF)   # хочу вставить стейдж с метаданными -\n",
        "# withColumn(\"features_with_meta\", col(\"features\").alias(\"\", metadata=feature_metadata)) "
      ],
      "execution_count": 110,
      "outputs": []
    },
    {
      "cell_type": "code",
      "metadata": {
        "id": "as0OCoEL1xXY"
      },
      "source": [
        "predictions = p_model.transform(testDF)"
      ],
      "execution_count": 59,
      "outputs": []
    },
    {
      "cell_type": "code",
      "metadata": {
        "id": "ZDxzkO70skME",
        "colab": {
          "base_uri": "https://localhost:8080/"
        },
        "outputId": "19e31ee8-29e9-4f4c-be4b-7814b14bb06f"
      },
      "source": [
        "print(f'Model F1 = {evaluator.evaluate(predictions)}')"
      ],
      "execution_count": 61,
      "outputs": [
        {
          "output_type": "stream",
          "name": "stdout",
          "text": [
            "Model F1 = 0.9831345126567173\n"
          ]
        }
      ]
    },
    {
      "cell_type": "code",
      "metadata": {
        "id": "RYs-ODnbB029",
        "colab": {
          "base_uri": "https://localhost:8080/"
        },
        "outputId": "d4c1ac9f-a233-4b59-e0f1-e55df21b1f58"
      },
      "source": [
        "type(p_model)"
      ],
      "execution_count": 56,
      "outputs": [
        {
          "output_type": "execute_result",
          "data": {
            "text/plain": [
              "pyspark.ml.pipeline.PipelineModel"
            ]
          },
          "metadata": {},
          "execution_count": 56
        }
      ]
    },
    {
      "cell_type": "code",
      "metadata": {
        "id": "pujGTHutpyL9"
      },
      "source": [
        "p_model.write().overwrite().save('catboost_pipeline')"
      ],
      "execution_count": null,
      "outputs": []
    },
    {
      "cell_type": "markdown",
      "metadata": {
        "id": "Wj_erzuQni-z"
      },
      "source": [
        "### Catboost limitations\n",
        "<a href='https://catboost.ai/en/docs/concepts/spark-known-limitations'>List of limitations</a>"
      ]
    },
    {
      "cell_type": "code",
      "metadata": {
        "id": "V3jasYBlhHcI"
      },
      "source": [
        ""
      ],
      "execution_count": null,
      "outputs": []
    }
  ]
}