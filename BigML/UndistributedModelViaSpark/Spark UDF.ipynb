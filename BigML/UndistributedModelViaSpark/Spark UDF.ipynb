{
 "cells": [
  {
   "cell_type": "code",
   "execution_count": 1,
   "id": "nervous-vienna",
   "metadata": {},
   "outputs": [],
   "source": [
    "import pickle\n",
    "import pandas as pd\n",
    "import sklearn as sk\n",
    "from sklearn import metrics\n",
    "from sklearn.model_selection import train_test_split\n",
    "\n",
    "from pyspark.sql import SparkSession\n",
    "from pyspark.sql.functions import col\n",
    "from pyspark.ml.feature import StringIndexer\n",
    "from pyspark.sql.types import DoubleType"
   ]
  },
  {
   "cell_type": "markdown",
   "id": "settled-supply",
   "metadata": {},
   "source": [
    "# Задача\n",
    "### Как применить sklearn модель на 1Тб данных?"
   ]
  },
  {
   "cell_type": "code",
   "execution_count": 4,
   "id": "actual-forwarding",
   "metadata": {},
   "outputs": [
    {
     "name": "stderr",
     "output_type": "stream",
     "text": [
      "                                                                                \r"
     ]
    }
   ],
   "source": [
    "df = spark.read.parquet('data/iris.parquet')"
   ]
  },
  {
   "cell_type": "code",
   "execution_count": 5,
   "id": "formed-wagner",
   "metadata": {},
   "outputs": [
    {
     "name": "stdout",
     "output_type": "stream",
     "text": [
      "+------------+-----------+------------+-----------+-------+\n",
      "|sepal_length|sepal_width|petal_length|petal_width|species|\n",
      "+------------+-----------+------------+-----------+-------+\n",
      "|         5.1|        3.5|         1.4|        0.2| setosa|\n",
      "|         4.9|        3.0|         1.4|        0.2| setosa|\n",
      "|         4.7|        3.2|         1.3|        0.2| setosa|\n",
      "|         4.6|        3.1|         1.5|        0.2| setosa|\n",
      "|         5.0|        3.6|         1.4|        0.2| setosa|\n",
      "+------------+-----------+------------+-----------+-------+\n",
      "only showing top 5 rows\n",
      "\n"
     ]
    }
   ],
   "source": [
    "df.show(5)"
   ]
  },
  {
   "cell_type": "code",
   "execution_count": 6,
   "id": "treated-sperm",
   "metadata": {},
   "outputs": [],
   "source": [
    "si = StringIndexer(inputCol='species', outputCol=\"type\")\n",
    "df = si.fit(df).transform(df).drop('species')"
   ]
  },
  {
   "cell_type": "code",
   "execution_count": 7,
   "id": "guided-pleasure",
   "metadata": {},
   "outputs": [
    {
     "name": "stdout",
     "output_type": "stream",
     "text": [
      "+------------+-----------+------------+-----------+----+\n",
      "|sepal_length|sepal_width|petal_length|petal_width|type|\n",
      "+------------+-----------+------------+-----------+----+\n",
      "|         5.1|        3.5|         1.4|        0.2| 0.0|\n",
      "|         4.9|        3.0|         1.4|        0.2| 0.0|\n",
      "|         4.7|        3.2|         1.3|        0.2| 0.0|\n",
      "|         4.6|        3.1|         1.5|        0.2| 0.0|\n",
      "|         5.0|        3.6|         1.4|        0.2| 0.0|\n",
      "+------------+-----------+------------+-----------+----+\n",
      "only showing top 5 rows\n",
      "\n"
     ]
    }
   ],
   "source": [
    "df.show(5)"
   ]
  },
  {
   "cell_type": "code",
   "execution_count": 8,
   "id": "variable-entity",
   "metadata": {},
   "outputs": [],
   "source": [
    "pdf = df.toPandas()"
   ]
  },
  {
   "cell_type": "code",
   "execution_count": 9,
   "id": "greater-reggae",
   "metadata": {},
   "outputs": [
    {
     "data": {
      "text/html": [
       "<div>\n",
       "<style scoped>\n",
       "    .dataframe tbody tr th:only-of-type {\n",
       "        vertical-align: middle;\n",
       "    }\n",
       "\n",
       "    .dataframe tbody tr th {\n",
       "        vertical-align: top;\n",
       "    }\n",
       "\n",
       "    .dataframe thead th {\n",
       "        text-align: right;\n",
       "    }\n",
       "</style>\n",
       "<table border=\"1\" class=\"dataframe\">\n",
       "  <thead>\n",
       "    <tr style=\"text-align: right;\">\n",
       "      <th></th>\n",
       "      <th>sepal_length</th>\n",
       "      <th>sepal_width</th>\n",
       "      <th>petal_length</th>\n",
       "      <th>petal_width</th>\n",
       "      <th>type</th>\n",
       "    </tr>\n",
       "  </thead>\n",
       "  <tbody>\n",
       "    <tr>\n",
       "      <th>0</th>\n",
       "      <td>5.1</td>\n",
       "      <td>3.5</td>\n",
       "      <td>1.4</td>\n",
       "      <td>0.2</td>\n",
       "      <td>0.0</td>\n",
       "    </tr>\n",
       "    <tr>\n",
       "      <th>1</th>\n",
       "      <td>4.9</td>\n",
       "      <td>3.0</td>\n",
       "      <td>1.4</td>\n",
       "      <td>0.2</td>\n",
       "      <td>0.0</td>\n",
       "    </tr>\n",
       "    <tr>\n",
       "      <th>2</th>\n",
       "      <td>4.7</td>\n",
       "      <td>3.2</td>\n",
       "      <td>1.3</td>\n",
       "      <td>0.2</td>\n",
       "      <td>0.0</td>\n",
       "    </tr>\n",
       "    <tr>\n",
       "      <th>3</th>\n",
       "      <td>4.6</td>\n",
       "      <td>3.1</td>\n",
       "      <td>1.5</td>\n",
       "      <td>0.2</td>\n",
       "      <td>0.0</td>\n",
       "    </tr>\n",
       "    <tr>\n",
       "      <th>4</th>\n",
       "      <td>5.0</td>\n",
       "      <td>3.6</td>\n",
       "      <td>1.4</td>\n",
       "      <td>0.2</td>\n",
       "      <td>0.0</td>\n",
       "    </tr>\n",
       "    <tr>\n",
       "      <th>5</th>\n",
       "      <td>5.4</td>\n",
       "      <td>3.9</td>\n",
       "      <td>1.7</td>\n",
       "      <td>0.4</td>\n",
       "      <td>0.0</td>\n",
       "    </tr>\n",
       "    <tr>\n",
       "      <th>6</th>\n",
       "      <td>4.6</td>\n",
       "      <td>3.4</td>\n",
       "      <td>1.4</td>\n",
       "      <td>0.3</td>\n",
       "      <td>0.0</td>\n",
       "    </tr>\n",
       "    <tr>\n",
       "      <th>7</th>\n",
       "      <td>5.0</td>\n",
       "      <td>3.4</td>\n",
       "      <td>1.5</td>\n",
       "      <td>0.2</td>\n",
       "      <td>0.0</td>\n",
       "    </tr>\n",
       "    <tr>\n",
       "      <th>8</th>\n",
       "      <td>4.4</td>\n",
       "      <td>2.9</td>\n",
       "      <td>1.4</td>\n",
       "      <td>0.2</td>\n",
       "      <td>0.0</td>\n",
       "    </tr>\n",
       "    <tr>\n",
       "      <th>9</th>\n",
       "      <td>4.9</td>\n",
       "      <td>3.1</td>\n",
       "      <td>1.5</td>\n",
       "      <td>0.1</td>\n",
       "      <td>0.0</td>\n",
       "    </tr>\n",
       "  </tbody>\n",
       "</table>\n",
       "</div>"
      ],
      "text/plain": [
       "   sepal_length  sepal_width  petal_length  petal_width  type\n",
       "0           5.1          3.5           1.4          0.2   0.0\n",
       "1           4.9          3.0           1.4          0.2   0.0\n",
       "2           4.7          3.2           1.3          0.2   0.0\n",
       "3           4.6          3.1           1.5          0.2   0.0\n",
       "4           5.0          3.6           1.4          0.2   0.0\n",
       "5           5.4          3.9           1.7          0.4   0.0\n",
       "6           4.6          3.4           1.4          0.3   0.0\n",
       "7           5.0          3.4           1.5          0.2   0.0\n",
       "8           4.4          2.9           1.4          0.2   0.0\n",
       "9           4.9          3.1           1.5          0.1   0.0"
      ]
     },
     "execution_count": 9,
     "metadata": {},
     "output_type": "execute_result"
    }
   ],
   "source": [
    "pdf.head(10)"
   ]
  },
  {
   "cell_type": "markdown",
   "id": "considerable-decrease",
   "metadata": {},
   "source": [
    "# DS создал Sklearn модель"
   ]
  },
  {
   "cell_type": "code",
   "execution_count": 10,
   "id": "scientific-silver",
   "metadata": {},
   "outputs": [],
   "source": [
    "train, test = train_test_split(pdf, random_state = 42)"
   ]
  },
  {
   "cell_type": "code",
   "execution_count": 11,
   "id": "latin-victoria",
   "metadata": {},
   "outputs": [],
   "source": [
    "features_col = ['sepal_length','sepal_width','petal_length','petal_width']"
   ]
  },
  {
   "cell_type": "code",
   "execution_count": 12,
   "id": "magnetic-magnet",
   "metadata": {},
   "outputs": [],
   "source": [
    "X_train = train[features_col]\n",
    "y_train = train.type\n",
    "X_test = test[features_col]\n",
    "y_test = test.type"
   ]
  },
  {
   "cell_type": "code",
   "execution_count": 14,
   "id": "6fbe07cb-4058-49a8-b246-7c74469b76d0",
   "metadata": {},
   "outputs": [
    {
     "data": {
      "text/plain": [
       "pandas.core.series.Series"
      ]
     },
     "execution_count": 14,
     "metadata": {},
     "output_type": "execute_result"
    }
   ],
   "source": [
    "type(y_train)"
   ]
  },
  {
   "cell_type": "code",
   "execution_count": 15,
   "id": "coupled-tunisia",
   "metadata": {},
   "outputs": [],
   "source": [
    "from sklearn.tree import DecisionTreeClassifier"
   ]
  },
  {
   "cell_type": "code",
   "execution_count": 16,
   "id": "sapphire-spell",
   "metadata": {},
   "outputs": [],
   "source": [
    "model = DecisionTreeClassifier(max_depth = 3, random_state = 1)"
   ]
  },
  {
   "cell_type": "code",
   "execution_count": 17,
   "id": "cellular-percentage",
   "metadata": {},
   "outputs": [],
   "source": [
    "model = model.fit(X_train,y_train)"
   ]
  },
  {
   "cell_type": "code",
   "execution_count": 18,
   "id": "wrapped-canada",
   "metadata": {},
   "outputs": [
    {
     "name": "stdout",
     "output_type": "stream",
     "text": [
      "The accuracy of the Decision Tree is 1.000\n"
     ]
    }
   ],
   "source": [
    "prediction=model.predict(X_test)\n",
    "print('The accuracy of the Decision Tree is {:.3f}'.format(metrics.accuracy_score(prediction,y_test)))"
   ]
  },
  {
   "cell_type": "code",
   "execution_count": 19,
   "id": "associate-forty",
   "metadata": {},
   "outputs": [
    {
     "data": {
      "text/plain": [
       "sklearn.tree._classes.DecisionTreeClassifier"
      ]
     },
     "execution_count": 19,
     "metadata": {},
     "output_type": "execute_result"
    }
   ],
   "source": [
    "type(model)"
   ]
  },
  {
   "cell_type": "code",
   "execution_count": 20,
   "id": "major-december",
   "metadata": {},
   "outputs": [],
   "source": [
    "with open('model.pickle', 'wb') as f:\n",
    "    pickle.dump(model, f)"
   ]
  },
  {
   "cell_type": "markdown",
   "id": "horizontal-lancaster",
   "metadata": {},
   "source": [
    "# Применяем Sklearn модель на больших данных"
   ]
  },
  {
   "cell_type": "code",
   "execution_count": 21,
   "id": "continued-october",
   "metadata": {},
   "outputs": [],
   "source": [
    "import pyspark.sql.functions as F"
   ]
  },
  {
   "cell_type": "code",
   "execution_count": 22,
   "id": "monthly-cleanup",
   "metadata": {},
   "outputs": [],
   "source": [
    "@F.pandas_udf(returnType=DoubleType())\n",
    "def predict_pandas_udf(*cols):\n",
    "    import pandas as pd\n",
    "    # cols will be a tuple of pandas.Series here.\n",
    "    X = pd.concat(cols, axis=1)\n",
    "    with open('model.pickle', 'rb') as f:\n",
    "        load_model = pickle.load(f)\n",
    "    return pd.Series(load_model.predict(X))"
   ]
  },
  {
   "cell_type": "code",
   "execution_count": 23,
   "id": "expensive-blind",
   "metadata": {},
   "outputs": [],
   "source": [
    "df_result = df.withColumn('result', predict_pandas_udf(*features_col))"
   ]
  },
  {
   "cell_type": "code",
   "execution_count": 24,
   "id": "de0ce013",
   "metadata": {},
   "outputs": [
    {
     "name": "stderr",
     "output_type": "stream",
     "text": [
      "[Stage 6:>                                                          (0 + 1) / 1]\r"
     ]
    },
    {
     "name": "stdout",
     "output_type": "stream",
     "text": [
      "+------------+-----------+------------+-----------+----+------+\n",
      "|sepal_length|sepal_width|petal_length|petal_width|type|result|\n",
      "+------------+-----------+------------+-----------+----+------+\n",
      "|         5.1|        3.5|         1.4|        0.2| 0.0|   0.0|\n",
      "|         4.9|        3.0|         1.4|        0.2| 0.0|   0.0|\n",
      "|         4.7|        3.2|         1.3|        0.2| 0.0|   0.0|\n",
      "|         4.6|        3.1|         1.5|        0.2| 0.0|   0.0|\n",
      "|         5.0|        3.6|         1.4|        0.2| 0.0|   0.0|\n",
      "|         5.4|        3.9|         1.7|        0.4| 0.0|   0.0|\n",
      "|         4.6|        3.4|         1.4|        0.3| 0.0|   0.0|\n",
      "|         5.0|        3.4|         1.5|        0.2| 0.0|   0.0|\n",
      "|         4.4|        2.9|         1.4|        0.2| 0.0|   0.0|\n",
      "|         4.9|        3.1|         1.5|        0.1| 0.0|   0.0|\n",
      "|         5.4|        3.7|         1.5|        0.2| 0.0|   0.0|\n",
      "|         4.8|        3.4|         1.6|        0.2| 0.0|   0.0|\n",
      "|         4.8|        3.0|         1.4|        0.1| 0.0|   0.0|\n",
      "|         4.3|        3.0|         1.1|        0.1| 0.0|   0.0|\n",
      "|         5.8|        4.0|         1.2|        0.2| 0.0|   0.0|\n",
      "|         5.7|        4.4|         1.5|        0.4| 0.0|   0.0|\n",
      "|         5.4|        3.9|         1.3|        0.4| 0.0|   0.0|\n",
      "|         5.1|        3.5|         1.4|        0.3| 0.0|   0.0|\n",
      "|         5.7|        3.8|         1.7|        0.3| 0.0|   0.0|\n",
      "|         5.1|        3.8|         1.5|        0.3| 0.0|   0.0|\n",
      "+------------+-----------+------------+-----------+----+------+\n",
      "only showing top 20 rows\n",
      "\n"
     ]
    },
    {
     "name": "stderr",
     "output_type": "stream",
     "text": [
      "                                                                                \r"
     ]
    }
   ],
   "source": [
    "df_result.show()"
   ]
  },
  {
   "cell_type": "code",
   "execution_count": 26,
   "id": "eafdf1a3-a195-4507-91bf-8c82ff184f0e",
   "metadata": {},
   "outputs": [
    {
     "data": {
      "text/plain": [
       "pyspark.sql.dataframe.DataFrame"
      ]
     },
     "execution_count": 26,
     "metadata": {},
     "output_type": "execute_result"
    }
   ],
   "source": [
    "type(df_result)"
   ]
  },
  {
   "cell_type": "code",
   "execution_count": 27,
   "id": "conservative-surrey",
   "metadata": {},
   "outputs": [],
   "source": [
    "from pyspark.ml.evaluation import MulticlassClassificationEvaluator\n",
    "evaluator = MulticlassClassificationEvaluator(labelCol=\"type\", predictionCol=\"result\", metricName=\"accuracy\")"
   ]
  },
  {
   "cell_type": "code",
   "execution_count": 29,
   "id": "6cea66b6",
   "metadata": {},
   "outputs": [
    {
     "name": "stdout",
     "output_type": "stream",
     "text": [
      "DecisionTreeClassifier [Accuracy] = 0.966667\n",
      "DecisionTreeClassifier [Error] = 0.0333333 \n"
     ]
    }
   ],
   "source": [
    "accuracy = evaluator.evaluate(df_result)\n",
    "print(\"DecisionTreeClassifier [Accuracy] = %g\"% (accuracy))\n",
    "print(\"DecisionTreeClassifier [Error] = %g \" % (1.0 - accuracy))"
   ]
  }
 ],
 "metadata": {
  "kernelspec": {
   "display_name": "Python 3 (ipykernel)",
   "language": "python",
   "name": "python3"
  },
  "language_info": {
   "codemirror_mode": {
    "name": "ipython",
    "version": 3
   },
   "file_extension": ".py",
   "mimetype": "text/x-python",
   "name": "python",
   "nbconvert_exporter": "python",
   "pygments_lexer": "ipython3",
   "version": "3.9.7"
  }
 },
 "nbformat": 4,
 "nbformat_minor": 5
}
