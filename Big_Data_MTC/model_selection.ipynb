{
 "cells": [
  {
   "cell_type": "markdown",
   "metadata": {},
   "source": [
    "# Выбор модели\n",
    "### Необходимые пакеты"
   ]
  },
  {
   "cell_type": "code",
   "execution_count": 1,
   "metadata": {},
   "outputs": [],
   "source": [
    "import pandas as pd\n",
    "import seaborn as se  \n",
    "import matplotlib.pyplot as plt \n",
    "from sklearn.model_selection import train_test_split \n",
    "from sklearn.metrics import classification_report,plot_confusion_matrix\n",
    "\n",
    "%matplotlib inline"
   ]
  },
  {
   "cell_type": "markdown",
   "metadata": {},
   "source": [
    "### Инициализация\n",
    "\n",
    "Filepath of CSV file"
   ]
  },
  {
   "cell_type": "code",
   "execution_count": 18,
   "metadata": {},
   "outputs": [],
   "source": [
    "#filepath\n",
    "file_path= \"telco-customer-churn.csv\""
   ]
  },
  {
   "cell_type": "markdown",
   "metadata": {},
   "source": [
    "### Выборка данных\n",
    "\n",
    "Pandas - это библиотека с открытым исходным кодом и лицензией BSD, предоставляющая высокопроизводительные, простые в использовании инструменты для манипулирования данными и анализа данных.\n",
    "\n",
    "Мы будем использовать библиотеку Pandas для чтения CSV-файла, используя его путь хранения. И мы используем функцию head для отображения начальной строки или записи."
   ]
  },
  {
   "cell_type": "code",
   "execution_count": 19,
   "metadata": {
    "cell_style": "center"
   },
   "outputs": [
    {
     "data": {
      "text/html": [
       "<div>\n",
       "<style scoped>\n",
       "    .dataframe tbody tr th:only-of-type {\n",
       "        vertical-align: middle;\n",
       "    }\n",
       "\n",
       "    .dataframe tbody tr th {\n",
       "        vertical-align: top;\n",
       "    }\n",
       "\n",
       "    .dataframe thead th {\n",
       "        text-align: right;\n",
       "    }\n",
       "</style>\n",
       "<table border=\"1\" class=\"dataframe\">\n",
       "  <thead>\n",
       "    <tr style=\"text-align: right;\">\n",
       "      <th></th>\n",
       "      <th>age</th>\n",
       "      <th>annualincome</th>\n",
       "      <th>calldroprate</th>\n",
       "      <th>callfailurerate</th>\n",
       "      <th>callingnum</th>\n",
       "      <th>customerid</th>\n",
       "      <th>customersuspended</th>\n",
       "      <th>education</th>\n",
       "      <th>gender</th>\n",
       "      <th>homeowner</th>\n",
       "      <th>...</th>\n",
       "      <th>totalminsusedinlastmonth</th>\n",
       "      <th>unpaidbalance</th>\n",
       "      <th>usesinternetservice</th>\n",
       "      <th>usesvoiceservice</th>\n",
       "      <th>percentagecalloutsidenetwork</th>\n",
       "      <th>totalcallduration</th>\n",
       "      <th>avgcallduration</th>\n",
       "      <th>churn</th>\n",
       "      <th>year</th>\n",
       "      <th>month</th>\n",
       "    </tr>\n",
       "  </thead>\n",
       "  <tbody>\n",
       "    <tr>\n",
       "      <th>0</th>\n",
       "      <td>12</td>\n",
       "      <td>168147</td>\n",
       "      <td>0.06</td>\n",
       "      <td>0.00</td>\n",
       "      <td>4251078442</td>\n",
       "      <td>1</td>\n",
       "      <td>Yes</td>\n",
       "      <td>Bachelor or equivalent</td>\n",
       "      <td>Male</td>\n",
       "      <td>Yes</td>\n",
       "      <td>...</td>\n",
       "      <td>15</td>\n",
       "      <td>19</td>\n",
       "      <td>No</td>\n",
       "      <td>No</td>\n",
       "      <td>0.82</td>\n",
       "      <td>5971</td>\n",
       "      <td>663</td>\n",
       "      <td>0</td>\n",
       "      <td>2015</td>\n",
       "      <td>1</td>\n",
       "    </tr>\n",
       "    <tr>\n",
       "      <th>1</th>\n",
       "      <td>12</td>\n",
       "      <td>168147</td>\n",
       "      <td>0.06</td>\n",
       "      <td>0.00</td>\n",
       "      <td>4251078442</td>\n",
       "      <td>1</td>\n",
       "      <td>Yes</td>\n",
       "      <td>Bachelor or equivalent</td>\n",
       "      <td>Male</td>\n",
       "      <td>Yes</td>\n",
       "      <td>...</td>\n",
       "      <td>15</td>\n",
       "      <td>19</td>\n",
       "      <td>No</td>\n",
       "      <td>No</td>\n",
       "      <td>0.82</td>\n",
       "      <td>3981</td>\n",
       "      <td>995</td>\n",
       "      <td>0</td>\n",
       "      <td>2015</td>\n",
       "      <td>2</td>\n",
       "    </tr>\n",
       "    <tr>\n",
       "      <th>2</th>\n",
       "      <td>42</td>\n",
       "      <td>29047</td>\n",
       "      <td>0.05</td>\n",
       "      <td>0.01</td>\n",
       "      <td>4251043419</td>\n",
       "      <td>2</td>\n",
       "      <td>Yes</td>\n",
       "      <td>Bachelor or equivalent</td>\n",
       "      <td>Female</td>\n",
       "      <td>Yes</td>\n",
       "      <td>...</td>\n",
       "      <td>212</td>\n",
       "      <td>34</td>\n",
       "      <td>No</td>\n",
       "      <td>Yes</td>\n",
       "      <td>0.27</td>\n",
       "      <td>7379</td>\n",
       "      <td>737</td>\n",
       "      <td>0</td>\n",
       "      <td>2015</td>\n",
       "      <td>1</td>\n",
       "    </tr>\n",
       "    <tr>\n",
       "      <th>3</th>\n",
       "      <td>42</td>\n",
       "      <td>29047</td>\n",
       "      <td>0.05</td>\n",
       "      <td>0.01</td>\n",
       "      <td>4251043419</td>\n",
       "      <td>2</td>\n",
       "      <td>Yes</td>\n",
       "      <td>Bachelor or equivalent</td>\n",
       "      <td>Female</td>\n",
       "      <td>Yes</td>\n",
       "      <td>...</td>\n",
       "      <td>212</td>\n",
       "      <td>34</td>\n",
       "      <td>No</td>\n",
       "      <td>Yes</td>\n",
       "      <td>0.27</td>\n",
       "      <td>1729</td>\n",
       "      <td>432</td>\n",
       "      <td>0</td>\n",
       "      <td>2015</td>\n",
       "      <td>2</td>\n",
       "    </tr>\n",
       "    <tr>\n",
       "      <th>4</th>\n",
       "      <td>58</td>\n",
       "      <td>27076</td>\n",
       "      <td>0.07</td>\n",
       "      <td>0.02</td>\n",
       "      <td>4251055773</td>\n",
       "      <td>3</td>\n",
       "      <td>Yes</td>\n",
       "      <td>Master or equivalent</td>\n",
       "      <td>Female</td>\n",
       "      <td>Yes</td>\n",
       "      <td>...</td>\n",
       "      <td>216</td>\n",
       "      <td>144</td>\n",
       "      <td>No</td>\n",
       "      <td>No</td>\n",
       "      <td>0.48</td>\n",
       "      <td>3122</td>\n",
       "      <td>624</td>\n",
       "      <td>0</td>\n",
       "      <td>2015</td>\n",
       "      <td>1</td>\n",
       "    </tr>\n",
       "  </tbody>\n",
       "</table>\n",
       "<p>5 rows × 29 columns</p>\n",
       "</div>"
      ],
      "text/plain": [
       "   age  annualincome  calldroprate  callfailurerate  callingnum  customerid  \\\n",
       "0   12        168147          0.06             0.00  4251078442           1   \n",
       "1   12        168147          0.06             0.00  4251078442           1   \n",
       "2   42         29047          0.05             0.01  4251043419           2   \n",
       "3   42         29047          0.05             0.01  4251043419           2   \n",
       "4   58         27076          0.07             0.02  4251055773           3   \n",
       "\n",
       "  customersuspended               education  gender homeowner  ...  \\\n",
       "0               Yes  Bachelor or equivalent    Male       Yes  ...   \n",
       "1               Yes  Bachelor or equivalent    Male       Yes  ...   \n",
       "2               Yes  Bachelor or equivalent  Female       Yes  ...   \n",
       "3               Yes  Bachelor or equivalent  Female       Yes  ...   \n",
       "4               Yes    Master or equivalent  Female       Yes  ...   \n",
       "\n",
       "  totalminsusedinlastmonth  unpaidbalance usesinternetservice  \\\n",
       "0                       15             19                  No   \n",
       "1                       15             19                  No   \n",
       "2                      212             34                  No   \n",
       "3                      212             34                  No   \n",
       "4                      216            144                  No   \n",
       "\n",
       "   usesvoiceservice  percentagecalloutsidenetwork  totalcallduration  \\\n",
       "0                No                          0.82               5971   \n",
       "1                No                          0.82               3981   \n",
       "2               Yes                          0.27               7379   \n",
       "3               Yes                          0.27               1729   \n",
       "4                No                          0.48               3122   \n",
       "\n",
       "  avgcallduration  churn  year  month  \n",
       "0             663      0  2015      1  \n",
       "1             995      0  2015      2  \n",
       "2             737      0  2015      1  \n",
       "3             432      0  2015      2  \n",
       "4             624      0  2015      1  \n",
       "\n",
       "[5 rows x 29 columns]"
      ]
     },
     "execution_count": 19,
     "metadata": {},
     "output_type": "execute_result"
    }
   ],
   "source": [
    "df=pd.read_csv(file_path)\n",
    "df.head()"
   ]
  },
  {
   "cell_type": "markdown",
   "metadata": {},
   "source": [
    "Просмотр формата серий"
   ]
  },
  {
   "cell_type": "code",
   "execution_count": 20,
   "metadata": {},
   "outputs": [
    {
     "name": "stdout",
     "output_type": "stream",
     "text": [
      "<class 'pandas.core.frame.DataFrame'>\n",
      "RangeIndex: 20468 entries, 0 to 20467\n",
      "Data columns (total 29 columns):\n",
      " #   Column                                Non-Null Count  Dtype  \n",
      "---  ------                                --------------  -----  \n",
      " 0   age                                   20468 non-null  int64  \n",
      " 1   annualincome                          20468 non-null  int64  \n",
      " 2   calldroprate                          20468 non-null  float64\n",
      " 3   callfailurerate                       20468 non-null  float64\n",
      " 4   callingnum                            20468 non-null  int64  \n",
      " 5   customerid                            20468 non-null  int64  \n",
      " 6   customersuspended                     20468 non-null  object \n",
      " 7   education                             20468 non-null  object \n",
      " 8   gender                                20468 non-null  object \n",
      " 9   homeowner                             20468 non-null  object \n",
      " 10  maritalstatus                         20468 non-null  object \n",
      " 11  monthlybilledamount                   20468 non-null  int64  \n",
      " 12  noadditionallines                     20468 non-null  object \n",
      " 13  numberofcomplaints                    20468 non-null  int64  \n",
      " 14  numberofmonthunpaid                   20468 non-null  int64  \n",
      " 15  numdayscontractequipmentplanexpiring  20468 non-null  int64  \n",
      " 16  occupation                            20468 non-null  object \n",
      " 17  penaltytoswitch                       20468 non-null  int64  \n",
      " 18  state                                 20468 non-null  object \n",
      " 19  totalminsusedinlastmonth              20468 non-null  int64  \n",
      " 20  unpaidbalance                         20468 non-null  int64  \n",
      " 21  usesinternetservice                   20468 non-null  object \n",
      " 22  usesvoiceservice                      20468 non-null  object \n",
      " 23  percentagecalloutsidenetwork          20468 non-null  float64\n",
      " 24  totalcallduration                     20468 non-null  int64  \n",
      " 25  avgcallduration                       20468 non-null  int64  \n",
      " 26  churn                                 20468 non-null  int64  \n",
      " 27  year                                  20468 non-null  int64  \n",
      " 28  month                                 20468 non-null  int64  \n",
      "dtypes: float64(3), int64(16), object(10)\n",
      "memory usage: 4.5+ MB\n"
     ]
    }
   ],
   "source": [
    "df.info()"
   ]
  },
  {
   "cell_type": "markdown",
   "metadata": {},
   "source": [
    "Просмотр количества уникальных значений"
   ]
  },
  {
   "cell_type": "code",
   "execution_count": 21,
   "metadata": {},
   "outputs": [
    {
     "data": {
      "text/plain": [
       "age                                       68\n",
       "annualincome                            9508\n",
       "calldroprate                               8\n",
       "callfailurerate                            4\n",
       "callingnum                              9525\n",
       "customerid                              9525\n",
       "customersuspended                          2\n",
       "education                                  4\n",
       "gender                                     2\n",
       "homeowner                                  2\n",
       "maritalstatus                              2\n",
       "monthlybilledamount                      120\n",
       "noadditionallines                          1\n",
       "numberofcomplaints                         4\n",
       "numberofmonthunpaid                        8\n",
       "numdayscontractequipmentplanexpiring     100\n",
       "occupation                                 3\n",
       "penaltytoswitch                          500\n",
       "state                                     50\n",
       "totalminsusedinlastmonth                 500\n",
       "unpaidbalance                            250\n",
       "usesinternetservice                        2\n",
       "usesvoiceservice                           2\n",
       "percentagecalloutsidenetwork             100\n",
       "totalcallduration                       7147\n",
       "avgcallduration                         1359\n",
       "churn                                      2\n",
       "year                                       1\n",
       "month                                      3\n",
       "dtype: int64"
      ]
     },
     "execution_count": 21,
     "metadata": {},
     "output_type": "execute_result"
    }
   ],
   "source": [
    "df.nunique()"
   ]
  },
  {
   "cell_type": "markdown",
   "metadata": {},
   "source": [
    "### Отбор признаков\n",
    "\n",
    "Это процесс сокращения числа входных переменных при разработке прогностической модели. Используется для уменьшения числа входных переменных как для снижения вычислительных затрат на моделирование, так и, в некоторых случаях, для повышения эффективности модели.\n",
    "\n",
    "Назначим все необходимые входные признаки на X, а цель/результат - на Y.\n"
   ]
  },
  {
   "cell_type": "code",
   "execution_count": 22,
   "metadata": {},
   "outputs": [],
   "source": [
    "X = df.drop(['churn', 'year', 'month', 'callingnum'],axis=1)\n",
    "Y = df.churn"
   ]
  },
  {
   "cell_type": "markdown",
   "metadata": {},
   "source": [
    "Поиск баланса меток в наборе данных"
   ]
  },
  {
   "cell_type": "code",
   "execution_count": 23,
   "metadata": {},
   "outputs": [
    {
     "name": "stdout",
     "output_type": "stream",
     "text": [
      "Labels: {0, 1}\n",
      "Zero count = 18605, One count = 1863\n"
     ]
    }
   ],
   "source": [
    "print('Labels: {}'.format(set(Y)))\n",
    "print('Zero count = {}, One count = {}'.format(len(Y) - sum(Y), sum(Y)))"
   ]
  },
  {
   "cell_type": "markdown",
   "metadata": {},
   "source": [
    "Декларация категориальных признаков"
   ]
  },
  {
   "cell_type": "code",
   "execution_count": 24,
   "metadata": {},
   "outputs": [],
   "source": [
    "categorical_columns = list(X.select_dtypes(include=['object']).columns.values.tolist())"
   ]
  },
  {
   "cell_type": "markdown",
   "metadata": {},
   "source": [
    "### Предварительная обработка данных\n",
    "\n",
    "Поскольку большинство моделей машинного обучения в библиотеке Sklearn не обрабатывают строковые значениия и NaN-значения, нам приходится явно удалять или заменять NaN-значения. В приведенном ниже фрагменте есть функции, которые удаляют нулевое значение, если таковое существует. И преобразуют данные строковых классов в наборе данных, кодируя их в целочисленные классы."
   ]
  },
  {
   "cell_type": "code",
   "execution_count": 25,
   "metadata": {},
   "outputs": [],
   "source": [
    "def NullClearner(df):\n",
    "    if(isinstance(df, pd.Series) and (df.dtype in [\"float64\",\"int64\"])):\n",
    "        df.fillna(df.mean(),inplace=True)\n",
    "        return df\n",
    "    elif(isinstance(df, pd.Series)):\n",
    "        df.fillna(df.mode()[0],inplace=True)\n",
    "        return df\n",
    "    else:return df\n",
    "def EncodeX(df):\n",
    "    return pd.get_dummies(df)\n",
    "def EncodeY(df):\n",
    "    if len(df.unique())<=2:\n",
    "        return df\n",
    "    else:\n",
    "        un_EncodedT=np.sort(pd.unique(df), axis=-1, kind='mergesort')\n",
    "        df=LabelEncoder().fit_transform(df)\n",
    "        EncodedT=[xi for xi in range(len(un_EncodedT))]\n",
    "        print(\"Encoded Target: {} to {}\".format(un_EncodedT,EncodedT))\n",
    "        return df"
   ]
  },
  {
   "cell_type": "code",
   "execution_count": 26,
   "metadata": {},
   "outputs": [
    {
     "data": {
      "text/html": [
       "<div>\n",
       "<style scoped>\n",
       "    .dataframe tbody tr th:only-of-type {\n",
       "        vertical-align: middle;\n",
       "    }\n",
       "\n",
       "    .dataframe tbody tr th {\n",
       "        vertical-align: top;\n",
       "    }\n",
       "\n",
       "    .dataframe thead th {\n",
       "        text-align: right;\n",
       "    }\n",
       "</style>\n",
       "<table border=\"1\" class=\"dataframe\">\n",
       "  <thead>\n",
       "    <tr style=\"text-align: right;\">\n",
       "      <th></th>\n",
       "      <th>age</th>\n",
       "      <th>annualincome</th>\n",
       "      <th>calldroprate</th>\n",
       "      <th>callfailurerate</th>\n",
       "      <th>customerid</th>\n",
       "      <th>monthlybilledamount</th>\n",
       "      <th>numberofcomplaints</th>\n",
       "      <th>numberofmonthunpaid</th>\n",
       "      <th>numdayscontractequipmentplanexpiring</th>\n",
       "      <th>penaltytoswitch</th>\n",
       "      <th>...</th>\n",
       "      <th>state_VA</th>\n",
       "      <th>state_VT</th>\n",
       "      <th>state_WA</th>\n",
       "      <th>state_WI</th>\n",
       "      <th>state_WV</th>\n",
       "      <th>state_WY</th>\n",
       "      <th>usesinternetservice_No</th>\n",
       "      <th>usesinternetservice_Yes</th>\n",
       "      <th>usesvoiceservice_No</th>\n",
       "      <th>usesvoiceservice_Yes</th>\n",
       "    </tr>\n",
       "  </thead>\n",
       "  <tbody>\n",
       "    <tr>\n",
       "      <th>0</th>\n",
       "      <td>12</td>\n",
       "      <td>168147</td>\n",
       "      <td>0.06</td>\n",
       "      <td>0.00</td>\n",
       "      <td>1</td>\n",
       "      <td>71</td>\n",
       "      <td>0</td>\n",
       "      <td>7</td>\n",
       "      <td>96</td>\n",
       "      <td>371</td>\n",
       "      <td>...</td>\n",
       "      <td>0</td>\n",
       "      <td>0</td>\n",
       "      <td>1</td>\n",
       "      <td>0</td>\n",
       "      <td>0</td>\n",
       "      <td>0</td>\n",
       "      <td>1</td>\n",
       "      <td>0</td>\n",
       "      <td>1</td>\n",
       "      <td>0</td>\n",
       "    </tr>\n",
       "    <tr>\n",
       "      <th>1</th>\n",
       "      <td>12</td>\n",
       "      <td>168147</td>\n",
       "      <td>0.06</td>\n",
       "      <td>0.00</td>\n",
       "      <td>1</td>\n",
       "      <td>71</td>\n",
       "      <td>0</td>\n",
       "      <td>7</td>\n",
       "      <td>96</td>\n",
       "      <td>371</td>\n",
       "      <td>...</td>\n",
       "      <td>0</td>\n",
       "      <td>0</td>\n",
       "      <td>1</td>\n",
       "      <td>0</td>\n",
       "      <td>0</td>\n",
       "      <td>0</td>\n",
       "      <td>1</td>\n",
       "      <td>0</td>\n",
       "      <td>1</td>\n",
       "      <td>0</td>\n",
       "    </tr>\n",
       "    <tr>\n",
       "      <th>2</th>\n",
       "      <td>42</td>\n",
       "      <td>29047</td>\n",
       "      <td>0.05</td>\n",
       "      <td>0.01</td>\n",
       "      <td>2</td>\n",
       "      <td>8</td>\n",
       "      <td>1</td>\n",
       "      <td>4</td>\n",
       "      <td>14</td>\n",
       "      <td>43</td>\n",
       "      <td>...</td>\n",
       "      <td>0</td>\n",
       "      <td>0</td>\n",
       "      <td>0</td>\n",
       "      <td>1</td>\n",
       "      <td>0</td>\n",
       "      <td>0</td>\n",
       "      <td>1</td>\n",
       "      <td>0</td>\n",
       "      <td>0</td>\n",
       "      <td>1</td>\n",
       "    </tr>\n",
       "    <tr>\n",
       "      <th>3</th>\n",
       "      <td>42</td>\n",
       "      <td>29047</td>\n",
       "      <td>0.05</td>\n",
       "      <td>0.01</td>\n",
       "      <td>2</td>\n",
       "      <td>8</td>\n",
       "      <td>1</td>\n",
       "      <td>4</td>\n",
       "      <td>14</td>\n",
       "      <td>43</td>\n",
       "      <td>...</td>\n",
       "      <td>0</td>\n",
       "      <td>0</td>\n",
       "      <td>0</td>\n",
       "      <td>1</td>\n",
       "      <td>0</td>\n",
       "      <td>0</td>\n",
       "      <td>1</td>\n",
       "      <td>0</td>\n",
       "      <td>0</td>\n",
       "      <td>1</td>\n",
       "    </tr>\n",
       "    <tr>\n",
       "      <th>4</th>\n",
       "      <td>58</td>\n",
       "      <td>27076</td>\n",
       "      <td>0.07</td>\n",
       "      <td>0.02</td>\n",
       "      <td>3</td>\n",
       "      <td>16</td>\n",
       "      <td>0</td>\n",
       "      <td>2</td>\n",
       "      <td>55</td>\n",
       "      <td>403</td>\n",
       "      <td>...</td>\n",
       "      <td>0</td>\n",
       "      <td>0</td>\n",
       "      <td>0</td>\n",
       "      <td>0</td>\n",
       "      <td>0</td>\n",
       "      <td>0</td>\n",
       "      <td>1</td>\n",
       "      <td>0</td>\n",
       "      <td>1</td>\n",
       "      <td>0</td>\n",
       "    </tr>\n",
       "  </tbody>\n",
       "</table>\n",
       "<p>5 rows × 85 columns</p>\n",
       "</div>"
      ],
      "text/plain": [
       "   age  annualincome  calldroprate  callfailurerate  customerid  \\\n",
       "0   12        168147          0.06             0.00           1   \n",
       "1   12        168147          0.06             0.00           1   \n",
       "2   42         29047          0.05             0.01           2   \n",
       "3   42         29047          0.05             0.01           2   \n",
       "4   58         27076          0.07             0.02           3   \n",
       "\n",
       "   monthlybilledamount  numberofcomplaints  numberofmonthunpaid  \\\n",
       "0                   71                   0                    7   \n",
       "1                   71                   0                    7   \n",
       "2                    8                   1                    4   \n",
       "3                    8                   1                    4   \n",
       "4                   16                   0                    2   \n",
       "\n",
       "   numdayscontractequipmentplanexpiring  penaltytoswitch  ...  state_VA  \\\n",
       "0                                    96              371  ...         0   \n",
       "1                                    96              371  ...         0   \n",
       "2                                    14               43  ...         0   \n",
       "3                                    14               43  ...         0   \n",
       "4                                    55              403  ...         0   \n",
       "\n",
       "   state_VT  state_WA  state_WI  state_WV  state_WY  usesinternetservice_No  \\\n",
       "0         0         1         0         0         0                       1   \n",
       "1         0         1         0         0         0                       1   \n",
       "2         0         0         1         0         0                       1   \n",
       "3         0         0         1         0         0                       1   \n",
       "4         0         0         0         0         0                       1   \n",
       "\n",
       "   usesinternetservice_Yes  usesvoiceservice_No  usesvoiceservice_Yes  \n",
       "0                        0                    1                     0  \n",
       "1                        0                    1                     0  \n",
       "2                        0                    0                     1  \n",
       "3                        0                    0                     1  \n",
       "4                        0                    1                     0  \n",
       "\n",
       "[5 rows x 85 columns]"
      ]
     },
     "execution_count": 26,
     "metadata": {},
     "output_type": "execute_result"
    }
   ],
   "source": [
    "x=X.columns.to_list()\n",
    "for i in x:\n",
    "    X[i]=NullClearner(X[i])  \n",
    "X=EncodeX(X)\n",
    "Y=EncodeY(NullClearner(Y))\n",
    "X.head()"
   ]
  },
  {
   "cell_type": "markdown",
   "metadata": {},
   "source": [
    "### Разделение данных\n",
    "\n",
    "Разделение данных на тренировочные и тестовые - это процедура оценки эффективности алгоритма. Процедура включает в себя взятие набора данных и разделение его на два подмножества. Первое подмножество используется для подгонки/обучения модели. Второе подмножество используется для прогнозирования. Основным мотивом является оценка эффективности модели на новых данных."
   ]
  },
  {
   "cell_type": "code",
   "execution_count": 27,
   "metadata": {},
   "outputs": [],
   "source": [
    "X_train, X_test, y_train, y_test = train_test_split(X, Y, test_size = 0.3, random_state = 12, stratify=Y)"
   ]
  },
  {
   "cell_type": "markdown",
   "metadata": {},
   "source": [
    "### Xgboost vs Catboost vs Lightgbm\n",
    "\n",
    "Строим базовые модели чтобы получить представление о диапазоне точности и полноты моделей алгоритмов градиентного бустинга"
   ]
  },
  {
   "cell_type": "markdown",
   "metadata": {},
   "source": [
    "Вспомогательные функции метрик алгоритмов"
   ]
  },
  {
   "cell_type": "code",
   "execution_count": 31,
   "metadata": {},
   "outputs": [],
   "source": [
    "from sklearn.metrics import auc, roc_curve, precision_recall_curve, log_loss\n",
    "from sklearn.metrics import precision_score, recall_score, f1_score\n",
    "\n",
    "def metrics(clf_name, thresh, ordered_dict):\n",
    "    probs = clf_name.predict_proba(X_test)[:, 1]\n",
    "    fpr, tpr, _ = roc_curve(y_test, probs)\n",
    "    aucroc = auc(fpr, tpr)\n",
    "    pre, rec, _ = precision_recall_curve(y_test, probs)\n",
    "    aucpr = auc(rec, pre)\n",
    "    logloss = log_loss(y_test, probs)\n",
    "    print('AUCROC:    {:.3f}'.format(aucroc))\n",
    "    print('AUCPR:     {:.3f}'.format(aucpr))\n",
    "    print('Logloss:   {:.3f}'.format(logloss))\n",
    "    preds = (clf_name.predict_proba(X_test)[:, 1] > thresh).astype('int')\n",
    "    precision = precision_score(y_test, preds)\n",
    "    recall = recall_score(y_test, preds)\n",
    "    f1 = f1_score(y_test, preds)\n",
    "    print('Precision: {0:.3f}'.format(precision))\n",
    "    print('Recall:    {0:.3f}'.format(recall))\n",
    "    print('F1-score:  {0:.3f}'.format(f1))\n",
    "    if clf_name == clf_xgb:\n",
    "        print('Best iteration:  {} rounds'.format((clf_name.best_iteration)))\n",
    "    elif clf_name == clf_lgbm:\n",
    "        print('Best iteration:  {} rounds'.format((clf_name.best_iteration_)))\n",
    "    elif clf_name == clf_cat:\n",
    "        print('Best iteration:  {} rounds'.format((clf_name.best_iteration_)))\n",
    "    elif clf_name == pipe_svm:\n",
    "        pass\n",
    "    ordered_dict['AUCROC'] = round(aucroc, 3)\n",
    "    ordered_dict['AUCPR'] = round(aucpr, 3)\n",
    "    ordered_dict['Logloss'] = round(logloss, 3)\n",
    "    ordered_dict['Precision'] = round(precision, 3)\n",
    "    ordered_dict['Recall'] = round(recall, 3)\n",
    "    ordered_dict['F1_score'] = round(f1, 3)\n",
    "    \n",
    "def plot_roc_pr(clf_name):\n",
    "    \"\"\"Plot the ROC and PR-curve for a given classifier.\"\"\"\n",
    "    plt.figure(figsize=(14, 7))\n",
    "    # Plot ROC\n",
    "    plt.subplot(121)\n",
    "    probs = clf_name.predict_proba(X_test)[:, 1]\n",
    "    fpr, tpr, thresholds = roc_curve(y_test, probs)\n",
    "    aucroc = auc(fpr, tpr)\n",
    "    plt.title('Receiver Operating Characteristic')\n",
    "    plt.plot(fpr, tpr, 'b', label='AUCROC = %0.3f' % aucroc)\n",
    "    plt.legend(loc='lower right')\n",
    "    plt.plot([0, 1], [0, 1],'r--')\n",
    "    plt.xlim([0, 1])\n",
    "    plt.ylim([0, 1])\n",
    "    plt.ylabel('True Positive Rate')\n",
    "    plt.xlabel('False Positive Rate')\n",
    "    # Plot PR curve\n",
    "    plt.subplot(122)\n",
    "    precision, recall, threshs = precision_recall_curve(y_test, probs)\n",
    "    aucpr = auc(recall, precision)\n",
    "    plt.title('Precision-Recall Curve')\n",
    "    plt.plot(recall, precision, 'b', label='AUCPR = %0.3f' % aucpr)\n",
    "    plt.legend(loc='lower right')\n",
    "    plt.plot([0, 1], [0.5, 0.5], 'r--')\n",
    "    plt.xlabel('Recall')\n",
    "    plt.ylabel('Precision')\n",
    "    plt.ylim([0.0, 1.05])\n",
    "    plt.xlim([0.0, 1.0])\n",
    "    plt.show()\n",
    "    \n",
    "def plot_thresh_roc_pr(thresholds, costs, best_threshold, lowest_cost, clf_name):\n",
    "    plt.figure(figsize=(28, 10))\n",
    "    # Plot optimal threshold\n",
    "    plt.subplot(131)\n",
    "    plt.plot(thresholds, costs, c='red', label='cost')\n",
    "    plt.plot([0, 1], [lowest_cost, lowest_cost], 'k-', label='lowest cost')\n",
    "    plt.plot([best_threshold, best_threshold], [0, lowest_cost], 'k-')\n",
    "    plt.ylim([40, 150])\n",
    "    plt.legend()\n",
    "    plt.title('Threshold Cost')\n",
    "    plt.xlabel('Score Threshold')\n",
    "    plt.ylabel('Cost')\n",
    "    \n",
    "    # Plot ROC\n",
    "    plt.subplot(132)\n",
    "    probs = clf_name.predict_proba(X_test)[:, 1]\n",
    "    fpr, tpr, thresholds = roc_curve(y_test, probs)\n",
    "    aucroc = auc(fpr, tpr)\n",
    "    plt.title('Receiver Operating Characteristic')\n",
    "    plt.plot(fpr, tpr, 'b', label='AUCROC = %0.3f' % aucroc)\n",
    "    plt.legend(loc='lower right')\n",
    "    plt.plot([0, 1], [0, 1],'r--')\n",
    "    plt.xlim([0, 1])\n",
    "    plt.ylim([0, 1])\n",
    "    plt.ylabel('True Positive Rate')\n",
    "    plt.xlabel('False Positive Rate')\n",
    "    \n",
    "    # Plot PR\n",
    "    plt.subplot(133)\n",
    "    precision, recall, threshs = precision_recall_curve(y_test, probs)\n",
    "    aucpr = auc(recall, precision)\n",
    "    plt.title('Precision-Recall Curve')\n",
    "    plt.plot(recall, precision, 'b', label='AUCPR = %0.3f' % aucpr)\n",
    "    plt.legend(loc='lower right')\n",
    "    plt.plot([0, 1], [0.5, 0.5], 'r--')\n",
    "    plt.xlabel('Recall')\n",
    "    plt.ylabel('Precision')\n",
    "    plt.ylim([0.0, 1.05])\n",
    "    plt.xlim([0.0, 1.0])\n",
    "    plt.show()"
   ]
  },
  {
   "cell_type": "markdown",
   "metadata": {},
   "source": [
    "## XGBoost Model"
   ]
  },
  {
   "cell_type": "code",
   "execution_count": 32,
   "metadata": {},
   "outputs": [
    {
     "name": "stderr",
     "output_type": "stream",
     "text": [
      "C:\\Users\\Mi\\anaconda3\\lib\\site-packages\\xgboost\\sklearn.py:888: UserWarning: The use of label encoder in XGBClassifier is deprecated and will be removed in a future release. To remove this warning, do the following: 1) Pass option use_label_encoder=False when constructing XGBClassifier object; and 2) Encode your labels (y) as integers starting with 0, i.e. 0, 1, 2, ..., [num_class - 1].\n",
      "  warnings.warn(label_encoder_deprecation_msg, UserWarning)\n"
     ]
    },
    {
     "data": {
      "image/png": "[encoded data removed]",
      "text/plain": [
       "<Figure size 1008x504 with 2 Axes>"
      ]
     },
     "metadata": {
      "needs_background": "light"
     },
     "output_type": "display_data"
    },
    {
     "name": "stdout",
     "output_type": "stream",
     "text": [
      "              precision    recall  f1-score   support\n",
      "\n",
      "           0       0.94      1.00      0.97      5582\n",
      "           1       0.96      0.40      0.57       559\n",
      "\n",
      "    accuracy                           0.94      6141\n",
      "   macro avg       0.95      0.70      0.77      6141\n",
      "weighted avg       0.94      0.94      0.93      6141\n",
      "\n",
      "Training time:   2.45 sec.\n",
      "Prediction time: 0.00 sec.\n"
     ]
    }
   ],
   "source": [
    "from xgboost import XGBClassifier\n",
    "from collections import OrderedDict\n",
    "from time import time\n",
    "\n",
    "# Instantiate classifier\n",
    "clf_xgb = XGBClassifier()\n",
    "\n",
    "# Fit classifier\n",
    "xgbt0 = time()\n",
    "clf_xgb.fit(\n",
    "    X_train,\n",
    "    y_train,\n",
    "    eval_set=[(X_test, y_test)],\n",
    "    eval_metric=['logloss', 'aucpr', 'auc'],          \n",
    "    early_stopping_rounds=10,\n",
    "    verbose=False\n",
    ")\n",
    "xgb_trainingtime = time()-xgbt0\n",
    "\n",
    "# Output and plot evaluation metrics\n",
    "xgb_evals_dict = OrderedDict()\n",
    "plot_roc_pr(clf_xgb)\n",
    "xgbt1 = time()\n",
    "xgb_predictiontime = time()-xgbt1\n",
    "print(classification_report(y_test,clf_xgb.predict(X_test)))\n",
    "print('Training time:   {:.2f} sec.'.format(xgb_trainingtime))\n",
    "print('Prediction time: {:.2f} sec.'.format(xgb_predictiontime))"
   ]
  },
  {
   "cell_type": "markdown",
   "metadata": {},
   "source": [
    "## LightGBM Model"
   ]
  },
  {
   "cell_type": "code",
   "execution_count": 33,
   "metadata": {},
   "outputs": [
    {
     "name": "stderr",
     "output_type": "stream",
     "text": [
      "C:\\Users\\Mi\\anaconda3\\lib\\site-packages\\lightgbm\\sklearn.py:726: UserWarning: 'early_stopping_rounds' argument is deprecated and will be removed in a future release of LightGBM. Pass 'early_stopping()' callback via 'callbacks' argument instead.\n",
      "  _log_warning(\"'early_stopping_rounds' argument is deprecated and will be removed in a future release of LightGBM. \"\n",
      "C:\\Users\\Mi\\anaconda3\\lib\\site-packages\\lightgbm\\sklearn.py:736: UserWarning: 'verbose' argument is deprecated and will be removed in a future release of LightGBM. Pass 'log_evaluation()' callback via 'callbacks' argument instead.\n",
      "  _log_warning(\"'verbose' argument is deprecated and will be removed in a future release of LightGBM. \"\n"
     ]
    },
    {
     "data": {
      "image/png": "[encoded data removed]",
      "text/plain": [
       "<Figure size 1008x504 with 2 Axes>"
      ]
     },
     "metadata": {
      "needs_background": "light"
     },
     "output_type": "display_data"
    },
    {
     "name": "stdout",
     "output_type": "stream",
     "text": [
      "              precision    recall  f1-score   support\n",
      "\n",
      "           0       0.92      1.00      0.96      5582\n",
      "           1       1.00      0.12      0.21       559\n",
      "\n",
      "    accuracy                           0.92      6141\n",
      "   macro avg       0.96      0.56      0.58      6141\n",
      "weighted avg       0.93      0.92      0.89      6141\n",
      "\n",
      "Training time:   0.35 sec.\n",
      "Prediction time: 0.00 sec.\n"
     ]
    }
   ],
   "source": [
    "from lightgbm import LGBMClassifier\n",
    "\n",
    "# Instantiate classifier\n",
    "clf_lgbm = LGBMClassifier()\n",
    "\n",
    "# Fit classifier\n",
    "lgbmt0 = time()\n",
    "clf_lgbm.fit(\n",
    "    X_train,\n",
    "    y_train,\n",
    "    eval_set=[(X_test, y_test)],\n",
    "    eval_metric=['logloss', 'aucpr', 'auc'],    \n",
    "    early_stopping_rounds=10,\n",
    "    verbose=False\n",
    ")\n",
    "lgbm_trainingtime = time()-lgbmt0\n",
    "\n",
    "\n",
    "# Output and plot evaluation metrics\n",
    "lgbm_evals_dict = OrderedDict()\n",
    "plot_roc_pr(clf_lgbm)\n",
    "lgbmt1 = time()\n",
    "lgbm_predictiontime = time()-lgbmt1\n",
    "print(classification_report(y_test,clf_lgbm.predict(X_test)))\n",
    "print('Training time:   {:.2f} sec.'.format(lgbm_trainingtime))\n",
    "print('Prediction time: {:.2f} sec.'.format(lgbm_predictiontime))\n"
   ]
  },
  {
   "cell_type": "markdown",
   "metadata": {},
   "source": [
    "## CatBoost Model"
   ]
  },
  {
   "cell_type": "code",
   "execution_count": 16,
   "metadata": {},
   "outputs": [
    {
     "data": {
      "image/png": "[encoded data removed]",
      "text/plain": [
       "<Figure size 1008x504 with 2 Axes>"
      ]
     },
     "metadata": {
      "needs_background": "light"
     },
     "output_type": "display_data"
    },
    {
     "name": "stdout",
     "output_type": "stream",
     "text": [
      "              precision    recall  f1-score   support\n",
      "\n",
      "           0       0.95      1.00      0.97      5582\n",
      "           1       1.00      0.47      0.63       559\n",
      "\n",
      "    accuracy                           0.95      6141\n",
      "   macro avg       0.97      0.73      0.80      6141\n",
      "weighted avg       0.95      0.95      0.94      6141\n",
      "\n",
      "Training time:   6.61 sec.\n",
      "Prediction time: 0.00 sec.\n"
     ]
    }
   ],
   "source": [
    "from catboost import CatBoostClassifier\n",
    "\n",
    "# Instantiate classifier\n",
    "clf_cat = CatBoostClassifier()\n",
    "\n",
    "# Fit classifier\n",
    "catt0 = time()\n",
    "clf_cat.fit(\n",
    "    X_train,\n",
    "    y_train,\n",
    "    eval_set=[(X_test, y_test)],\n",
    "    early_stopping_rounds=10,   \n",
    "    use_best_model=True,\n",
    "    verbose=0,\n",
    "    plot=False                     \n",
    ")\n",
    "cat_trainingtime = time()-catt0\n",
    "\n",
    "\n",
    "# Output evaluation metrics \n",
    "cat_evals_dict = OrderedDict()\n",
    "plot_roc_pr(clf_cat)\n",
    "catt1 = time()\n",
    "cat_predictiontime = time()-catt1\n",
    "print(classification_report(y_test,clf_cat.predict(X_test)))\n",
    "print('Training time:   {:.2f} sec.'.format(cat_trainingtime))\n",
    "print('Prediction time: {:.2f} sec.'.format(cat_predictiontime))"
   ]
  },
  {
   "cell_type": "markdown",
   "metadata": {},
   "source": [
    "#### Отчет о классификации\n",
    "\n",
    "Отчет о классификации используется для измерения качества предсказаний алгоритма классификации. Сколько предсказаний являются истинными, сколько - ложными.\n",
    "\n",
    "* **где:**:\n",
    "    - Precision:- Точность положительных предсказаний.\n",
    "    - Recall:- доля положительных прогнозов, которые были определены правильно.\n",
    "    - f1-score:-  процент правильных положительных предсказаний.\n",
    "    - support:- поддержка - это количество фактических вхождений класса в заданный набор данных."
   ]
  },
  {
   "cell_type": "markdown",
   "metadata": {},
   "source": [
    "## Вывод\n",
    "\n",
    "CatBoost Model показала наивысший результат и время обучения, но библиотека имеет широкий функционал для оптимизации и при обучении на стандартных датасетах показывает наилучший результат при наименьшем времени обучения.\n",
    "Далее см. CatBoostClassifier.ipynb."
   ]
  },
  {
   "cell_type": "code",
   "execution_count": null,
   "metadata": {},
   "outputs": [],
   "source": []
  }
 ],
 "metadata": {
  "interpreter": {
   "hash": "51a9663a131f1b5758c45b97a2d6917c8ae86b33e231c3733631cbc7265cfc89"
  },
  "kernelspec": {
   "display_name": "Python 3 (ipykernel)",
   "language": "python",
   "name": "python3"
  },
  "language_info": {
   "codemirror_mode": {
    "name": "ipython",
    "version": 3
   },
   "file_extension": ".py",
   "mimetype": "text/x-python",
   "name": "python",
   "nbconvert_exporter": "python",
   "pygments_lexer": "ipython3",
   "version": "3.7.4"
  }
 },
 "nbformat": 4,
 "nbformat_minor": 4
}
